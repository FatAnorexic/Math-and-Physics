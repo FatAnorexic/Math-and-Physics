{
 "cells": [
  {
   "cell_type": "markdown",
   "metadata": {},
   "source": [
    "# Derivation\n",
    "Assume $r=h(y)$ in that the rate of growth must fluctuate and cannot remain constant. $$\\frac{dy}{dt}=h(y)y$$\n",
    "\n",
    "We're looking for $h(y)\\cong r\\gt0$ when $y$ is small, $h(y)$ decreases as $y$ gets large, and when a boundary is met $h(y)\\lt0$. \n",
    "\n",
    "$h(y)=(r-ay)$ sattifies these conditions, and letting $k=\\frac{r}{a}$ we get $$\\frac{dy}{dt}=r(1-\\frac{y}{K})y$$\n",
    "\n",
    "## Solution\n",
    "\n",
    "$$\\frac{dy}{(1-\\frac{y}{y})y}=rdt\\quad\\Rightarrow\\quad \\int\\frac{dy}{(1-\\frac{y}{K})}=\\int rdt \\\\\n",
    "Using\\;Partial\\;Fractions\\\\\n",
    "\\int(\\frac{1}{y}+\\frac{\\frac{1}{K}}{1-\\frac{y}{K}})dy=rt+C\\quad\\Rightarrow\\quad\\frac{\\ln(y)}{\\ln(1-\\frac{y}{K})}=rt+C\\quad\\Rightarrow\\quad\\frac{y}{1-\\frac{y}{K}}=Ce^{rt}\n",
    "$$\n",
    "\n",
    "To satisfy we need to find $C$ for $y(0)=y_0$. Plugging in for $t=0$ we find $C=\\frac{y_0}{1-\\frac{y_0}{K}}$\n",
    "\n",
    "We then solve for $y(t)$:\n",
    "\n",
    "$$y=Ce^{rt}(1-\\frac{y}{K})\\quad\\Rightarrow\\quad y=Ce^{rt}-\\frac{y}{K}Ce^{rt}\\quad\\Rightarrow\\quad yK=Ce^{rt}K-Ce^{rt}\\frac{y}{K}\\\\\n",
    "\\Rightarrow yK+Ce^{rt}\\frac{y}{K}=Ce^{rt}K\\quad\\Rightarrow\\quad y(K+\\frac{Ce^{rt}}{K})=Ce^{rt}K\\quad\\Rightarrow\\quad y(t)=\\frac{Ce^{rt}K}{K+\\frac{Ce^{rt}}{K}}\n",
    "$$\n",
    "\n",
    "Expanding $C$ out to finalize our equation:\n",
    "\n",
    "$$y(t)=\\frac{y_0e^{rt}K}{(1-\\frac{y_0}{K})K+y_0e^{rt}}\\quad\\Rightarrow\\quad \\frac{y_0e^{rt}K}{(K-y_0)+y_0e^{rt}}\\frac{e^{-rt}}{e^{-rt}}$$\n",
    "\n",
    "Finally:\n",
    "\n",
    "$$Logistic\\;Equation\\\\\n",
    "y(t)=\\frac{y_0K}{y_0+(K-y_0)e^{-rt}}$$\n",
    "\n",
    "Taking the limit $t\\rightarrow\\infty$:\n",
    "$$\\lim_{t\\to\\infty}Logistic\\;Eq=\\frac{y_0K}{y_0}=K$$\n",
    "\n",
    "\n",
    "## Meaning\n",
    "\n",
    "This means we can say that $\\phi(t)=K$ is an asymptotically stable solution. Basically after a long time, the population $y$ will be close to the saturation level $K$ or, $y=K$, regardless of the initial population, provided that population is positive. If we instead use the other critical point $y=\\phi(t)=0$, we call that Unstable equilibrium solution. In otherwords, the only way to ensure the population stays near zero, is to keep $y=0$. "
   ]
  },
  {
   "cell_type": "markdown",
   "metadata": {},
   "source": [
    "# Example 1\n",
    "\n",
    "The logistic model has been applied to the natural growth of the halibut population in certain\n",
    "areas of the Pacific Ocean. Let $m$, measured in kilograms, be the total mass, or biomass, of\n",
    "the halibut population at time $t$. The parameters in the logistic equation are estimated to have\n",
    "the values $r=0.71/year$ and $K=80.5×10^6kg$. If the initial biomass is $m_0=0.25K$, find the\n",
    "biomass $2$ years later. Also find the time $t$ for which $m(t)=0.75K$.\n",
    "\n",
    "## Solution\n",
    "\n",
    "We can compute this with a simple definition and we will, but having an algebraic answer is also good here. \n",
    "$$ m(t)=\\frac{m_0K}{m_0+(K-m_0)e^{-rt}}\\quad\\Rightarrow\\quad m(2)\\approx ?$$\n",
    "\n",
    "(b) Start by moving our saturation value across the eq:\n",
    "$$\\frac{m(t)}{K}=\\frac{\\frac{m_0}{K}}{\\frac{m_0}{K}+(1-\\frac{m_0}{K})e^{-rt}}$$\n",
    "\n",
    "Rearrange to get:\n",
    "\n",
    "$$t=-\\frac{1}{r}\\ln{\\frac{\\frac{m_0}{K}(1-\\frac{m}{K})}{\\frac{m}{K}(1-\\frac{m_0}{K})}}$$"
   ]
  },
  {
   "cell_type": "code",
   "execution_count": null,
   "metadata": {},
   "outputs": [],
   "source": [
    "import pandas as pd\n",
    "import matplotlib.pyplot as plt\n",
    "import numpy as np\n",
    "\n"
   ]
  }
 ],
 "metadata": {
  "kernelspec": {
   "display_name": ".venv",
   "language": "python",
   "name": "python3"
  },
  "language_info": {
   "name": "python",
   "version": "3.9.13"
  }
 },
 "nbformat": 4,
 "nbformat_minor": 2
}
