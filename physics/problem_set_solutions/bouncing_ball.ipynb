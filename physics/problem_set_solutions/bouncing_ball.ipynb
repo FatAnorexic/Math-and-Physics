{
 "cells": [
  {
   "cell_type": "markdown",
   "metadata": {},
   "source": [
    "# Problem:\n",
    "You drop a superball from a height of 1.5 meters onto a flat hard surface. It bounces many times, until its\n",
    "vertical motion stops.\n",
    "\n",
    "(a) Assume that it loses some constant fraction $f$ of its kinetic energy each time it bounces. (Kinetic energy\n",
    "$K=\\frac{mv^2}{2}$.)\n",
    "\n",
    "How does the ball’s upwards velocity after a bounce relate to its downwards velocity before the bounce?\n",
    "\n",
    "(b) If it takes 20 seconds for the ball to stop bouncing, what is $f$?\n",
    "\n",
    "(c) How could you determine if your assumption in part (a) is a good one?\n",
    "\n",
    "(d) Will air resistance have any significant effect on your answers? Do a simple estimate to determine the answer.\n",
    "\n",
    "## Solution\n",
    "\n",
    "(a) In the absense of any other forces acting on the ball, the kinetic energy $KE$ will be equivalent to the the potential energy\n",
    "\n",
    "at time 0. $$U(0)=K(t_1)$$\n",
    "\n",
    "$$mgh_0=\\frac{mv_{Down}^2}{2}\\quad\\rightarrow\\quad\\sqrt{2gh_0}=v_{Down}$$\n",
    "\n",
    "The kinetic energy on the way back up will be equal to the kinetic energy that was achieved just before striking the ground times\n",
    "\n",
    "the fraction of energy lost\n",
    "\n",
    "$$KE_{1}(t_1)=KE_{D}(t_1)f$$\n",
    "$$\\frac{mv_1^2}{2}=\\frac{mv_D^2}{2}f\\quad\\rightarrow\\quad v_1(t_1)=v_d(t_1)f$$\n",
    "\n",
    "Since $f$ is constant, much like you might do in differential equations we treat $\\sqrt{f}=f$ assuming it will work itself out later. \n",
    "\n",
    "we can always factor this back in if need be.\n",
    "\n",
    "moving forwards, we know that the next bounce will have velocity equal to the velocity of the first bounce times the constant fraction of \n",
    "\n",
    "energy lost. $$v_2=v_1f\\quad\\rightarrow\\quad v_2=(v_df)f\\quad\\rightarrow\\quad v_2=v_df^2$$\n",
    "\n",
    "extrapolating this method to the next bounce... $$v_3=v_2f\\quad\\rightarrow\\quad v_3=v_df^3$$\n",
    "\n",
    "The pattern is starting to emerge, so my guess is going to be:\n",
    "\n",
    "$$v_n=v_df^n$$\n",
    "\n",
    "### Before getting the answer\n",
    "\n",
    "I encourage you to stop here and try to get the rest of the answers yourself. When originally presented this problem, the hardest part for me was describing\n",
    "the first part. However, I understand we all think differently, so even if you do continue, I encourage you to stop anytime you think you may fully understand\n",
    "the problem. \n",
    "\n",
    "(b) To start, it'll be best to model $t$ and $v$ before any energy is lost to bouncing. As in, lets get the time it takes the ball to initially strike the ground.\n",
    "\n",
    "$$v_f=v_0+gt\\quad\\rightarrow\\quad\\frac{v_f-v_0}{g}=t\\quad\\rightarrow\\quad\\frac{v_d-0}{g}=t_1\\quad\\Rightarrow\\quad t_1=\\frac{v_d}{g}$$\n",
    "\n",
    "Before moving on, we should model the behavior of the ball through time $t_2$\n",
    "\n",
    "We know that the ball will initally move up after the bounce, being slowed by gravity until it loses all velocity at the point $\\sqrt{2gh_0}f$.\n",
    "if we take up to be the positive direction we can model $v_1(t)$ as such below, by integrating\n",
    "\n",
    "$$\\int_{x_0}^{x_f} dx=\\int (v_0+at)dt\\quad\\rightarrow\\quad x_f=x_0+v_0t+\\frac{1}{2}at^2$$\n",
    "\n",
    "\n",
    "Was a bit explicit, but never hurts too much to be a little verbose. Anyways, we'll use this to model the behavior of v(t) as it traverses\n",
    "\n",
    "through the time it takes till the next bounce.\n"
   ]
  },
  {
   "cell_type": "code",
   "execution_count": 9,
   "metadata": {},
   "outputs": [
    {
     "data": {
      "text/plain": [
       "Text(0.5, 0, 'time')"
      ]
     },
     "execution_count": 9,
     "metadata": {},
     "output_type": "execute_result"
    },
    {
     "data": {
      "image/png": "[encoded data removed]",
      "text/plain": [
       "<Figure size 640x480 with 1 Axes>"
      ]
     },
     "metadata": {},
     "output_type": "display_data"
    }
   ],
   "source": [
    "import numpy as np\n",
    "import matplotlib.pyplot as plt\n",
    "import pandas as pd \n",
    "\n",
    "def x_one(v_0, t):\n",
    "    return v_0*t-1/2*9.81*t**2\n",
    "\n",
    "time=np.linspace(0,1,100)\n",
    "plt.plot(time, x_one(5, time))\n",
    "plt.grid()\n",
    "plt.ylabel(r'$x(t)$', rotation=0, ha='right')\n",
    "plt.xlabel('time')\n"
   ]
  },
  {
   "cell_type": "markdown",
   "metadata": {},
   "source": [
    "(b cont.)\n",
    "\n",
    "from the graph above we can venture a guess that time it takes to reach it's zenith will be the same as the time it takes to reach the ground again. \n",
    "\n",
    "That is to say $v_f=-v_i$. So, getting back to solving for $t_2$ and borrowing from (a) $$v_1=v_df=v_i$$\n",
    "\n",
    "$$-v_df=v_df-gt_2\\quad\\Rightarrow\\quad t_2=\\frac{2v_df}{g}$$\n",
    "\n",
    "continuing down the line $$t_3=\\frac{2v_df^2}{g}$$\n",
    "\n",
    "the pattern emerging here seems to take the form $$t_n=\\frac{2v_df^{n-1}}{g}$$\n",
    "\n",
    "The question explicitly states that all bouncing, and in this case, all momentum stops at $t_{\\to}20$. Which means $K(20)=0$ and $U(20)=0$ \n",
    "\n",
    "All energy will have been lost to this factor $f$, and from our pattern above we can imply there exists some $f^k\\to0$ at $t_{k+1}$\n",
    "\n",
    "we can add all of time $t_n$ and explicitly state it converges to 20:\n",
    "\n",
    "$$t_1+t_2+t_3+...+t_n=20$$\n",
    "\n",
    "$$\\frac{v_d}{g}+\\frac{2v_df}{g}+\\frac{2v_df^2}{g}+...+\\frac{2v_df^{n-1}}{g}=20\\quad\\Rightarrow\\quad 1+2f+2f^2+...+2f^k=\\frac{g20}{v_d}$$\n",
    "\n",
    "### The Geometric series\n",
    "\n",
    "$$S_k=\\sum_{k=0}^{\\infty}ar^k=1+r+r^2+...+r^k$$\n",
    "\n",
    "$$rS_k=r+r^2+r^3+...+r^{k+1}$$\n",
    "\n",
    "$$(S_k-rS_k)=(1+r+r^2+...+r^k)-(r+r^2+r^3+...+r^{k+1})\\quad\\rightarrow\\quad (1-r)S_k=(1-r^{k+1})\\quad\\Rightarrow\\quad S_k=\\frac{1-r^{k+1}}{1-r}$$\n",
    "\n",
    "As $k\\to\\infty$, $r\\to0$ for $-1\\lt r\\lt 1$ and the series converges $S_k=\\frac{1}{1-r}$\n",
    "\n",
    "Looking at it from a mathematical perspective, $k$ must converge for our solution to have a finite time, and so $2f$ must be somewhere in the bouds $0\\lt 2f\\lt 1$\n",
    "\n",
    "It also makes a bit of physical sense too. If $2f\\gt1$ then for each bounce, we'd be adding energy to the system, and the ball would never come to rest.\n",
    "\n",
    "$$\\frac{1}{1-2f}=\\frac{g20}{v_d}\\quad\\Rightarrow\\quad f=\\frac{1}{2}-\\frac{v_d}{g20}\\quad\\Rightarrow\\quad f=\\frac{1}{2}-\\frac{\\sqrt{2gh_0}}{g20}$$\n",
    "\n",
    "$$ f\\approx0.47$$"
   ]
  },
  {
   "cell_type": "code",
   "execution_count": null,
   "metadata": {},
   "outputs": [],
   "source": []
  },
  {
   "cell_type": "markdown",
   "metadata": {},
   "source": [
    "(c)\n",
    "\n",
    "\n",
    "(d)"
   ]
  }
 ],
 "metadata": {
  "kernelspec": {
   "display_name": ".venv",
   "language": "python",
   "name": "python3"
  },
  "language_info": {
   "codemirror_mode": {
    "name": "ipython",
    "version": 3
   },
   "file_extension": ".py",
   "mimetype": "text/x-python",
   "name": "python",
   "nbconvert_exporter": "python",
   "pygments_lexer": "ipython3",
   "version": "3.9.13"
  }
 },
 "nbformat": 4,
 "nbformat_minor": 2
}
