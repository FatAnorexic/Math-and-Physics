{
 "cells": [
  {
   "cell_type": "markdown",
   "metadata": {},
   "source": [
    "# Problem:\n",
    "You drop a superball from a height of 1.5 meters onto a flat hard surface. It bounces many times, until its\n",
    "vertical motion stops.\n",
    "\n",
    "(a) Assume that it loses some constant fraction $f$ of its kinetic energy each time it bounces. (Kinetic energy\n",
    "$K=\\frac{mv^2}{2}$.)\n",
    "\n",
    "How does the ball’s upwards velocity after a bounce relate to its downwards velocity before the bounce?\n",
    "\n",
    "(b) If it takes 20 seconds for the ball to stop bouncing, what is $f$?\n",
    "\n",
    "(c) How could you determine if your assumption in part (a) is a good one?\n",
    "\n",
    "(d) Will air resistance have any significant effect on your answers? Do a simple estimate to determine the answer.\n",
    "\n",
    "## Solution\n",
    "\n",
    "(a) In the absense of any other forces acting on the ball, the kinetic energy $KE$ will be equivalent to the the potential energy\n",
    "\n",
    "at time 0. $$U(0)=K(t_1)$$\n",
    "\n",
    "$$mgh_0=\\frac{mv_{Down}^2}{2}\\quad\\rightarrow\\quad\\sqrt{2gh_0}=v_{Down}$$\n",
    "\n",
    "The kinetic energy on the way back up will be equal to the kinetic energy that was achieved just before striking the ground times\n",
    "\n",
    "the fraction of energy lost\n",
    "\n",
    "$$KE_{1}(t_1)=KE_{D}(t_1)f$$\n",
    "$$\\frac{mv_1^2}{2}=\\frac{mv_D^2}{2}f\\quad\\rightarrow\\quad v_1(t_1)=v_d(t_1)f$$\n",
    "\n",
    "Since $f$ is constant, much like you might do in differential equations we treat $\\sqrt{f}=f$ assuming it will work itself out later. \n",
    "\n",
    "we can always factor this back in if need be.\n",
    "\n",
    "moving forwards, we know that the next bounce will have velocity equal to the velocity of the first bounce times the constant fraction of \n",
    "\n",
    "energy lost. $$v_2=v_1f\\quad\\rightarrow\\quad v_2=(v_df)f\\quad\\rightarrow\\quad v_2=v_df^2$$\n",
    "\n",
    "extrapolating this method to the next bounce... $$v_3=v_2f\\quad\\rightarrow\\quad v_3=v_df^3$$\n",
    "\n",
    "The pattern is starting to emerge, so my guess is going to be:\n",
    "\n",
    "$$v_n=v_df^n$$\n",
    "\n",
    "### Before getting the answer\n",
    "\n",
    "I encourage you to stop here and try to get the rest of the answers yourself. When originally presented this problem, the hardest part for me was describing\n",
    "the first part. However, I understand we all think differently, so even if you do continue, I encourage you to stop anytime you think you may fully understand\n",
    "the problem. \n",
    "\n",
    "(b) To start, it'll be best to model $t$ and $v$ before any energy is lost to bouncing. As in, lets get the time it takes the ball to initially strike the ground.\n",
    "\n",
    "$$v_f=v_0+gt\\quad\\rightarrow\\quad\\frac{v_f-v_0}{g}=t\\quad\\rightarrow\\quad\\frac{v_d-0}{g}=t_1\\quad\\Rightarrow\\quad t_1=\\frac{v_d}{g}$$\n",
    "\n"
   ]
  }
 ],
 "metadata": {
  "kernelspec": {
   "display_name": ".venv",
   "language": "python",
   "name": "python3"
  },
  "language_info": {
   "name": "python",
   "version": "3.9.13"
  }
 },
 "nbformat": 4,
 "nbformat_minor": 2
}
